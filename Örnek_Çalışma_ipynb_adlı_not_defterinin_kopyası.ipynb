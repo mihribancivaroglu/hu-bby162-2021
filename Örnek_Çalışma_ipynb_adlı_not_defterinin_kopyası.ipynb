{
  "nbformat": 4,
  "nbformat_minor": 0,
  "metadata": {
    "colab": {
      "name": "Örnek Çalışma.ipynb adlı not defterinin kopyası",
      "provenance": [],
      "collapsed_sections": [],
      "authorship_tag": "ABX9TyNeEemA3+cP7NJOf/qIm7YA",
      "include_colab_link": true
    },
    "kernelspec": {
      "name": "python3",
      "display_name": "Python 3"
    }
  },
  "cells": [
    {
      "cell_type": "markdown",
      "metadata": {
        "id": "view-in-github",
        "colab_type": "text"
      },
      "source": [
        "<a href=\"https://colab.research.google.com/github/mihribancivaroglu/hu-bby162-2021/blob/main/%C3%96rnek_%C3%87al%C4%B1%C5%9Fma_ipynb_adl%C4%B1_not_defterinin_kopyas%C4%B1.ipynb\" target=\"_parent\"><img src=\"https://colab.research.google.com/assets/colab-badge.svg\" alt=\"Open In Colab\"/></a>"
      ]
    },
    {
      "cell_type": "code",
      "metadata": {
        "id": "q_we90lDyITo"
      },
      "source": [
        "#ödevin yazdırma kısmı \r\n",
        "print(\"ödevi yap\")"
      ],
      "execution_count": null,
      "outputs": []
    }
  ]
}